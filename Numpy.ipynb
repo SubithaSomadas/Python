{
 "cells": [
  {
   "cell_type": "markdown",
   "id": "f7cbfaf3",
   "metadata": {},
   "source": [
    "# Numpy"
   ]
  },
  {
   "cell_type": "code",
   "execution_count": 10,
   "id": "2c83a2b8",
   "metadata": {},
   "outputs": [],
   "source": [
    "import numpy as np"
   ]
  },
  {
   "cell_type": "code",
   "execution_count": 4,
   "id": "e57c00ae",
   "metadata": {},
   "outputs": [
    {
     "name": "stdout",
     "output_type": "stream",
     "text": [
      "[10 20 30]\n",
      "[[1 2 3]\n",
      " [5 6 7]]\n",
      "[[1 2 3]\n",
      " [4 5 6]\n",
      " [6 7 8]]\n"
     ]
    }
   ],
   "source": [
    "v1 = np.array([10,20,30])\n",
    "print(v1)\n",
    "\n",
    "v2 = np.array([[1,2,3],[5,6,7]])\n",
    "print(v2)\n",
    "\n",
    "v3 = np.array([[1,2,3],[4,5,6],[6,7,8]])\n",
    "print(v3)"
   ]
  },
  {
   "cell_type": "code",
   "execution_count": 11,
   "id": "76e50767",
   "metadata": {},
   "outputs": [
    {
     "data": {
      "text/plain": [
       "numpy.ndarray"
      ]
     },
     "execution_count": 11,
     "metadata": {},
     "output_type": "execute_result"
    }
   ],
   "source": [
    "type(v3)"
   ]
  },
  {
   "cell_type": "code",
   "execution_count": 5,
   "id": "d41c4467",
   "metadata": {},
   "outputs": [
    {
     "name": "stdout",
     "output_type": "stream",
     "text": [
      "[[0. 0.]]\n",
      "[[0. 0. 0. 0. 0. 0.]\n",
      " [0. 0. 0. 0. 0. 0.]\n",
      " [0. 0. 0. 0. 0. 0.]\n",
      " [0. 0. 0. 0. 0. 0.]\n",
      " [0. 0. 0. 0. 0. 0.]]\n"
     ]
    }
   ],
   "source": [
    "a = np.zeros((1,2))# need an empty numpy array 1 row and 2 cols\n",
    "print(a)\n",
    "b = np.zeros((5,6))\n",
    "print(b)"
   ]
  },
  {
   "cell_type": "code",
   "execution_count": 6,
   "id": "28647891",
   "metadata": {},
   "outputs": [
    {
     "name": "stdout",
     "output_type": "stream",
     "text": [
      "[[12 12 12]\n",
      " [12 12 12]]\n",
      "[[55 55 55 55 55]\n",
      " [55 55 55 55 55]\n",
      " [55 55 55 55 55]\n",
      " [55 55 55 55 55]\n",
      " [55 55 55 55 55]]\n"
     ]
    }
   ],
   "source": [
    "c = np.full((2,3),12) # initiate a numpy arrayw with 2 rows 3 cols and all the items in it as 12\n",
    "print(c)\n",
    "d = np.full((5,5),55)\n",
    "print(d)"
   ]
  },
  {
   "cell_type": "code",
   "execution_count": 21,
   "id": "2110144c",
   "metadata": {},
   "outputs": [
    {
     "name": "stdout",
     "output_type": "stream",
     "text": [
      "[10 11 12 13 14 15 16 17 18 19]\n",
      "[10 15 20 25 30 35 40 45]\n"
     ]
    }
   ],
   "source": [
    "e = np.arange(10,20) # array of all items from 10 to 20\n",
    "print(e)\n",
    "\n",
    "f = np.arange(10,50,5) # array of items with a gap of 5\n",
    "print(f)"
   ]
  },
  {
   "cell_type": "code",
   "execution_count": 9,
   "id": "3c4dd239",
   "metadata": {},
   "outputs": [
    {
     "name": "stdout",
     "output_type": "stream",
     "text": [
      "[34 90 33]\n"
     ]
    }
   ],
   "source": [
    "g = np.random.randint(1,100,3) # an array of 3 random values between 1 and 100\n",
    "print(g)"
   ]
  },
  {
   "cell_type": "code",
   "execution_count": 20,
   "id": "1ef9d709",
   "metadata": {},
   "outputs": [
    {
     "data": {
      "text/plain": [
       "-0.5131971978278772"
      ]
     },
     "execution_count": 20,
     "metadata": {},
     "output_type": "execute_result"
    }
   ],
   "source": [
    "np.random.randn()"
   ]
  },
  {
   "cell_type": "code",
   "execution_count": 21,
   "id": "2d78b118",
   "metadata": {},
   "outputs": [
    {
     "data": {
      "text/plain": [
       "array([-0.75484768,  2.74086319,  0.95184184, -0.24673092, -0.37986592,\n",
       "        1.22365038, -0.06079853, -2.23765129,  0.65886943, -0.15999123])"
      ]
     },
     "execution_count": 21,
     "metadata": {},
     "output_type": "execute_result"
    }
   ],
   "source": [
    "np.random.randn(10)"
   ]
  },
  {
   "cell_type": "code",
   "execution_count": 17,
   "id": "909c4e71",
   "metadata": {},
   "outputs": [
    {
     "data": {
      "text/plain": [
       "array([0.        , 0.11111111, 0.22222222, 0.33333333, 0.44444444,\n",
       "       0.55555556, 0.66666667, 0.77777778, 0.88888889, 1.        ])"
      ]
     },
     "execution_count": 17,
     "metadata": {},
     "output_type": "execute_result"
    }
   ],
   "source": [
    "\n",
    "np.linspace(0,1,10)"
   ]
  },
  {
   "cell_type": "code",
   "execution_count": 8,
   "id": "800e757f",
   "metadata": {},
   "outputs": [
    {
     "data": {
      "text/plain": [
       "array([[2],\n",
       "       [3],\n",
       "       [4],\n",
       "       [4],\n",
       "       [5],\n",
       "       [6]])"
      ]
     },
     "execution_count": 8,
     "metadata": {},
     "output_type": "execute_result"
    }
   ],
   "source": [
    "h = np.array([[2,3,4],[4,5,6]]) # identify the shape\n",
    "h\n",
    "h.shape\n",
    "h.shape = (3,2) # changing the r and col size\n",
    "h\n",
    "h.shape = (6,1)\n",
    "h"
   ]
  },
  {
   "cell_type": "code",
   "execution_count": 41,
   "id": "02c4e4ec",
   "metadata": {},
   "outputs": [
    {
     "data": {
      "text/plain": [
       "(2, 3)"
      ]
     },
     "execution_count": 41,
     "metadata": {},
     "output_type": "execute_result"
    }
   ],
   "source": [
    "n1 = np.array([10,20,30])\n",
    "n2 = np.array([40,50,60])\n",
    "n2 = np.array([40,70,60])\n",
    "\n",
    "n3=np.vstack((n1,n2)) # stack 2 arrays vertically one after the other\n",
    "n3\n",
    "n3.shape\n",
    "\n",
    "n4 = np.hstack((n1,n2))# stack 2 arrays horizontally one after the other\n",
    "n4\n",
    "n4.shape\n",
    "\n",
    "n5 = np.column_stack((n1,n2)) # stack 2 arrays in columnwise \n",
    "n5\n",
    "n5.shape\n",
    "\n",
    "n1 = np.array([10,20,30])# stack 3 arrays vertically one after the other\n",
    "n2 = np.array([40,50,60])\n",
    "n3 = np.array([40,70,60])\n",
    "nw = np.vstack((n1,n2,n3))\n",
    "nw"
   ]
  },
  {
   "cell_type": "code",
   "execution_count": 15,
   "id": "6ce85442",
   "metadata": {},
   "outputs": [
    {
     "data": {
      "text/plain": [
       "array([40, 70])"
      ]
     },
     "execution_count": 15,
     "metadata": {},
     "output_type": "execute_result"
    }
   ],
   "source": [
    "n1 = np.array([10,20,30,50,60])\n",
    "n2 = np.array([40,50,60,70])\n",
    "\n",
    "np.intersect1d(n1,n2) # common values in n1 and n2\n",
    "\n",
    "np.setdiff1d(n1,n2) # uniques values in n1 that are not present  in n2\n",
    "\n",
    "np.setdiff1d(n2,n1)# # uniques values in n12 that are not present in n1"
   ]
  },
  {
   "cell_type": "code",
   "execution_count": 22,
   "id": "c3837919",
   "metadata": {},
   "outputs": [
    {
     "data": {
      "text/plain": [
       "120"
      ]
     },
     "execution_count": 22,
     "metadata": {},
     "output_type": "execute_result"
    }
   ],
   "source": [
    "np.sum([[1,2,3],[5,6,7]]) #sum of all item in array\n",
    "l1=[10,40]\n",
    "l2=[20,50]\n",
    "np.sum([l1,l2])\n",
    "np.sum([l1,l2],axis=0) # sum of rows\n",
    "np.sum([l1,l2],axis=1)# sum of columns"
   ]
  },
  {
   "cell_type": "code",
   "execution_count": 29,
   "id": "ce6405f5",
   "metadata": {},
   "outputs": [
    {
     "data": {
      "text/plain": [
       "array([ 5., 10., 15.])"
      ]
     },
     "execution_count": 29,
     "metadata": {},
     "output_type": "execute_result"
    }
   ],
   "source": [
    "n1 = [10,20,30] # basic scalar operations\n",
    "n= np.array(n1)\n",
    "\n",
    "n+1\n",
    "n-1\n",
    "n*2\n",
    "n/2"
   ]
  },
  {
   "cell_type": "code",
   "execution_count": 33,
   "id": "8fc30ce6",
   "metadata": {},
   "outputs": [
    {
     "data": {
      "text/plain": [
       "8.16496580927726"
      ]
     },
     "execution_count": 33,
     "metadata": {},
     "output_type": "execute_result"
    }
   ],
   "source": [
    "n1 = [10,20,30]  # mean ,median,standard deviation\n",
    "np.mean(n1)\n",
    "np.median(n1)\n",
    "np.std(n1)"
   ]
  },
  {
   "cell_type": "code",
   "execution_count": 17,
   "id": "85afabad",
   "metadata": {},
   "outputs": [
    {
     "name": "stdout",
     "output_type": "stream",
     "text": [
      "[[[1 2 3]\n",
      "  [4 5 6]\n",
      "  [6 7 8]]]\n"
     ]
    }
   ],
   "source": [
    "v3 = np.array([[[1,2,3],[4,5,6],[6,7,8]]])\n",
    "print(v3)"
   ]
  },
  {
   "cell_type": "code",
   "execution_count": 18,
   "id": "9aa40faf",
   "metadata": {},
   "outputs": [
    {
     "data": {
      "text/plain": [
       "array([[1, 2, 3],\n",
       "       [4, 5, 6],\n",
       "       [6, 7, 8]])"
      ]
     },
     "execution_count": 18,
     "metadata": {},
     "output_type": "execute_result"
    }
   ],
   "source": [
    "v3[0]"
   ]
  },
  {
   "cell_type": "code",
   "execution_count": 19,
   "id": "21866636",
   "metadata": {},
   "outputs": [
    {
     "data": {
      "text/plain": [
       "array([4, 5, 6])"
      ]
     },
     "execution_count": 19,
     "metadata": {},
     "output_type": "execute_result"
    }
   ],
   "source": [
    "v3[0][1]"
   ]
  },
  {
   "cell_type": "code",
   "execution_count": 25,
   "id": "51a93d49",
   "metadata": {},
   "outputs": [
    {
     "ename": "SyntaxError",
     "evalue": "unterminated string literal (detected at line 2) (2717974304.py, line 2)",
     "output_type": "error",
     "traceback": [
      "\u001b[1;36m  Input \u001b[1;32mIn [25]\u001b[1;36m\u001b[0m\n\u001b[1;33m    print('my frined's place is in {}'.format('a'))\u001b[0m\n\u001b[1;37m                                                ^\u001b[0m\n\u001b[1;31mSyntaxError\u001b[0m\u001b[1;31m:\u001b[0m unterminated string literal (detected at line 2)\n"
     ]
    }
   ],
   "source": [
    "p = 'a'\n",
    "print('my frined's place is in {}'.format('a'))"
   ]
  },
  {
   "cell_type": "code",
   "execution_count": 27,
   "id": "5fd3f689",
   "metadata": {},
   "outputs": [],
   "source": [
    "t1=(1,2,'tuple',4)\n",
    "t2=(5,6,7)"
   ]
  },
  {
   "cell_type": "code",
   "execution_count": 29,
   "id": "5e202d94",
   "metadata": {},
   "outputs": [],
   "source": [
    "x = t2[t1[1]]"
   ]
  },
  {
   "cell_type": "code",
   "execution_count": 30,
   "id": "8446d941",
   "metadata": {},
   "outputs": [],
   "source": [
    "t3=t1+t2"
   ]
  },
  {
   "cell_type": "code",
   "execution_count": 35,
   "id": "c9b52fe5",
   "metadata": {},
   "outputs": [
    {
     "data": {
      "text/plain": [
       "((1, 2, 'tuple', 4), (5, 6, 7))"
      ]
     },
     "execution_count": 35,
     "metadata": {},
     "output_type": "execute_result"
    }
   ],
   "source": [
    "t3=(t1,t2)\n",
    "t3"
   ]
  },
  {
   "cell_type": "code",
   "execution_count": 32,
   "id": "46c4d56f",
   "metadata": {},
   "outputs": [
    {
     "data": {
      "text/plain": [
       "((1, 2, 'tuple', 4), (5, 6, 7))"
      ]
     },
     "execution_count": 32,
     "metadata": {},
     "output_type": "execute_result"
    }
   ],
   "source": [
    "t3"
   ]
  },
  {
   "cell_type": "code",
   "execution_count": 33,
   "id": "97f99afb",
   "metadata": {},
   "outputs": [],
   "source": [
    "t3 = (list(t1),list(t2))"
   ]
  },
  {
   "cell_type": "code",
   "execution_count": 34,
   "id": "bb59f02f",
   "metadata": {},
   "outputs": [
    {
     "data": {
      "text/plain": [
       "([1, 2, 'tuple', 4], [5, 6, 7])"
      ]
     },
     "execution_count": 34,
     "metadata": {},
     "output_type": "execute_result"
    }
   ],
   "source": [
    "t3"
   ]
  },
  {
   "cell_type": "code",
   "execution_count": 36,
   "id": "7bb7fcea",
   "metadata": {},
   "outputs": [],
   "source": [
    "d={1:'python',2:[1,2,3]}"
   ]
  },
  {
   "cell_type": "code",
   "execution_count": 37,
   "id": "c848ffe7",
   "metadata": {},
   "outputs": [],
   "source": [
    "d[2].append(4)"
   ]
  },
  {
   "cell_type": "code",
   "execution_count": 38,
   "id": "f4acb251",
   "metadata": {},
   "outputs": [
    {
     "ename": "KeyError",
     "evalue": "0",
     "output_type": "error",
     "traceback": [
      "\u001b[1;31m---------------------------------------------------------------------------\u001b[0m",
      "\u001b[1;31mKeyError\u001b[0m                                  Traceback (most recent call last)",
      "Input \u001b[1;32mIn [38]\u001b[0m, in \u001b[0;36m<cell line: 1>\u001b[1;34m()\u001b[0m\n\u001b[1;32m----> 1\u001b[0m x\u001b[38;5;241m=\u001b[39m\u001b[43md\u001b[49m\u001b[43m[\u001b[49m\u001b[38;5;241;43m0\u001b[39;49m\u001b[43m]\u001b[49m\n",
      "\u001b[1;31mKeyError\u001b[0m: 0"
     ]
    }
   ],
   "source": [
    "x=d[0]"
   ]
  },
  {
   "cell_type": "code",
   "execution_count": 39,
   "id": "77b14cb8",
   "metadata": {},
   "outputs": [],
   "source": [
    "d[\"one\"]=1"
   ]
  },
  {
   "cell_type": "code",
   "execution_count": 40,
   "id": "92d8dddb",
   "metadata": {},
   "outputs": [],
   "source": [
    "d={1:'python',2:[1,2,3]}"
   ]
  },
  {
   "cell_type": "code",
   "execution_count": 41,
   "id": "30fb4b0e",
   "metadata": {},
   "outputs": [],
   "source": [
    "d.update({'one':2})"
   ]
  },
  {
   "cell_type": "code",
   "execution_count": null,
   "id": "264e99db",
   "metadata": {},
   "outputs": [],
   "source": []
  }
 ],
 "metadata": {
  "kernelspec": {
   "display_name": "Python 3 (ipykernel)",
   "language": "python",
   "name": "python3"
  },
  "language_info": {
   "codemirror_mode": {
    "name": "ipython",
    "version": 3
   },
   "file_extension": ".py",
   "mimetype": "text/x-python",
   "name": "python",
   "nbconvert_exporter": "python",
   "pygments_lexer": "ipython3",
   "version": "3.10.0"
  }
 },
 "nbformat": 4,
 "nbformat_minor": 5
}
