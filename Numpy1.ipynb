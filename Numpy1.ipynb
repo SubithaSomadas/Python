{
 "cells": [
  {
   "cell_type": "markdown",
   "id": "f7cbfaf3",
   "metadata": {},
   "source": [
    "# Numpy"
   ]
  },
  {
   "cell_type": "code",
   "execution_count": 2,
   "id": "2c83a2b8",
   "metadata": {},
   "outputs": [],
   "source": [
    "import numpy as np"
   ]
  },
  {
   "cell_type": "code",
   "execution_count": 2,
   "id": "e57c00ae",
   "metadata": {},
   "outputs": [],
   "source": [
    "v1 = np.array([10,20,30])\n",
    "v1\n",
    "v2 = np.array([[1,2,3],[5,6,7]])\n",
    "v2\n",
    "v3 = np.array([[1,2,3],[4,5,6],[6,7,8]])\n",
    "v3"
   ]
  },
  {
   "cell_type": "code",
   "execution_count": 11,
   "id": "76e50767",
   "metadata": {},
   "outputs": [
    {
     "data": {
      "text/plain": [
       "numpy.ndarray"
      ]
     },
     "execution_count": 11,
     "metadata": {},
     "output_type": "execute_result"
    }
   ],
   "source": [
    "type(v3)"
   ]
  },
  {
   "cell_type": "code",
   "execution_count": 12,
   "id": "d41c4467",
   "metadata": {},
   "outputs": [],
   "source": [
    "a = np.zeros((1,2))# need an empty numpy array 1 row and 2 cols\n",
    "a\n",
    "b = np.zeros((5,6))\n",
    "b"
   ]
  },
  {
   "cell_type": "code",
   "execution_count": 16,
   "id": "28647891",
   "metadata": {},
   "outputs": [],
   "source": [
    "c = np.full((2,3),12) # initiate a numpy arrayw with 2 rows 3 cols and all the items in it as 12\n",
    "c\n",
    "d = np.full((5,5),55)\n",
    "d"
   ]
  },
  {
   "cell_type": "code",
   "execution_count": 22,
   "id": "2110144c",
   "metadata": {},
   "outputs": [
    {
     "data": {
      "text/plain": [
       "array([10, 15, 20, 25, 30, 35, 40, 45])"
      ]
     },
     "execution_count": 22,
     "metadata": {},
     "output_type": "execute_result"
    }
   ],
   "source": [
    "e = np.arange(10,20) # array of all items from 10 to 20\n",
    "e\n",
    "\n",
    "f = np.arange(10,50,5) # array of items with a gap of 5\n",
    "f"
   ]
  },
  {
   "cell_type": "code",
   "execution_count": 24,
   "id": "3c4dd239",
   "metadata": {},
   "outputs": [
    {
     "data": {
      "text/plain": [
       "array([8, 9, 1])"
      ]
     },
     "execution_count": 24,
     "metadata": {},
     "output_type": "execute_result"
    }
   ],
   "source": [
    "g = np.random.randint(1,100,3) # an array of 3 random values between 1 and 100\n",
    "g"
   ]
  },
  {
   "cell_type": "code",
   "execution_count": 20,
   "id": "1ef9d709",
   "metadata": {},
   "outputs": [
    {
     "data": {
      "text/plain": [
       "-0.5131971978278772"
      ]
     },
     "execution_count": 20,
     "metadata": {},
     "output_type": "execute_result"
    }
   ],
   "source": [
    "np.random.randn()"
   ]
  },
  {
   "cell_type": "code",
   "execution_count": 21,
   "id": "2d78b118",
   "metadata": {},
   "outputs": [
    {
     "data": {
      "text/plain": [
       "array([-0.75484768,  2.74086319,  0.95184184, -0.24673092, -0.37986592,\n",
       "        1.22365038, -0.06079853, -2.23765129,  0.65886943, -0.15999123])"
      ]
     },
     "execution_count": 21,
     "metadata": {},
     "output_type": "execute_result"
    }
   ],
   "source": [
    "np.random.randn(10)"
   ]
  },
  {
   "cell_type": "code",
   "execution_count": 17,
   "id": "909c4e71",
   "metadata": {},
   "outputs": [
    {
     "data": {
      "text/plain": [
       "array([0.        , 0.11111111, 0.22222222, 0.33333333, 0.44444444,\n",
       "       0.55555556, 0.66666667, 0.77777778, 0.88888889, 1.        ])"
      ]
     },
     "execution_count": 17,
     "metadata": {},
     "output_type": "execute_result"
    }
   ],
   "source": [
    "\n",
    "np.linspace(0,1,10)"
   ]
  },
  {
   "cell_type": "code",
   "execution_count": 8,
   "id": "800e757f",
   "metadata": {},
   "outputs": [
    {
     "data": {
      "text/plain": [
       "array([[2],\n",
       "       [3],\n",
       "       [4],\n",
       "       [4],\n",
       "       [5],\n",
       "       [6]])"
      ]
     },
     "execution_count": 8,
     "metadata": {},
     "output_type": "execute_result"
    }
   ],
   "source": [
    "h = np.array([[2,3,4],[4,5,6]]) # identify the shape\n",
    "h\n",
    "h.shape\n",
    "h.shape = (3,2) # changing the r and col size\n",
    "h\n",
    "h.shape = (6,1)\n",
    "h"
   ]
  },
  {
   "cell_type": "code",
   "execution_count": 41,
   "id": "02c4e4ec",
   "metadata": {},
   "outputs": [
    {
     "data": {
      "text/plain": [
       "(2, 3)"
      ]
     },
     "execution_count": 41,
     "metadata": {},
     "output_type": "execute_result"
    }
   ],
   "source": [
    "n1 = np.array([10,20,30])\n",
    "n2 = np.array([40,50,60])\n",
    "n2 = np.array([40,70,60])\n",
    "\n",
    "n3=np.vstack((n1,n2)) # stack 2 arrays vertically one after the other\n",
    "n3\n",
    "n3.shape\n",
    "\n",
    "n4 = np.hstack((n1,n2))# stack 2 arrays horizontally one after the other\n",
    "n4\n",
    "n4.shape\n",
    "\n",
    "n5 = np.column_stack((n1,n2)) # stack 2 arrays in columnwise \n",
    "n5\n",
    "n5.shape\n",
    "\n",
    "n1 = np.array([10,20,30])# stack 3 arrays vertically one after the other\n",
    "n2 = np.array([40,50,60])\n",
    "n3 = np.array([40,70,60])\n",
    "nw = np.vstack((n1,n2,n3))\n",
    "nw"
   ]
  },
  {
   "cell_type": "code",
   "execution_count": 15,
   "id": "6ce85442",
   "metadata": {},
   "outputs": [
    {
     "data": {
      "text/plain": [
       "array([40, 70])"
      ]
     },
     "execution_count": 15,
     "metadata": {},
     "output_type": "execute_result"
    }
   ],
   "source": [
    "n1 = np.array([10,20,30,50,60])\n",
    "n2 = np.array([40,50,60,70])\n",
    "\n",
    "np.intersect1d(n1,n2) # common values in n1 and n2\n",
    "\n",
    "np.setdiff1d(n1,n2) # uniques values in n1 that are not present  in n2\n",
    "\n",
    "np.setdiff1d(n2,n1)# # uniques values in n12 that are not present in n1"
   ]
  },
  {
   "cell_type": "code",
   "execution_count": 22,
   "id": "c3837919",
   "metadata": {},
   "outputs": [
    {
     "data": {
      "text/plain": [
       "120"
      ]
     },
     "execution_count": 22,
     "metadata": {},
     "output_type": "execute_result"
    }
   ],
   "source": [
    "np.sum([[1,2,3],[5,6,7]]) #sum of all item in array\n",
    "l1=[10,40]\n",
    "l2=[20,50]\n",
    "np.sum([l1,l2])\n",
    "np.sum([l1,l2],axis=0) # sum of rows\n",
    "np.sum([l1,l2],axis=1)# sum of columns"
   ]
  },
  {
   "cell_type": "code",
   "execution_count": 29,
   "id": "ce6405f5",
   "metadata": {},
   "outputs": [
    {
     "data": {
      "text/plain": [
       "array([ 5., 10., 15.])"
      ]
     },
     "execution_count": 29,
     "metadata": {},
     "output_type": "execute_result"
    }
   ],
   "source": [
    "n1 = [10,20,30] # basic scalar operations\n",
    "n= np.array(n1)\n",
    "\n",
    "n+1\n",
    "n-1\n",
    "n*2\n",
    "n/2"
   ]
  },
  {
   "cell_type": "code",
   "execution_count": 33,
   "id": "8fc30ce6",
   "metadata": {},
   "outputs": [
    {
     "data": {
      "text/plain": [
       "8.16496580927726"
      ]
     },
     "execution_count": 33,
     "metadata": {},
     "output_type": "execute_result"
    }
   ],
   "source": [
    "n1 = [10,20,30]  # mean ,median,standard deviation\n",
    "np.mean(n1)\n",
    "np.median(n1)\n",
    "np.std(n1)"
   ]
  },
  {
   "cell_type": "code",
   "execution_count": null,
   "id": "85afabad",
   "metadata": {},
   "outputs": [],
   "source": []
  }
 ],
 "metadata": {
  "kernelspec": {
   "display_name": "Python 3 (ipykernel)",
   "language": "python",
   "name": "python3"
  },
  "language_info": {
   "codemirror_mode": {
    "name": "ipython",
    "version": 3
   },
   "file_extension": ".py",
   "mimetype": "text/x-python",
   "name": "python",
   "nbconvert_exporter": "python",
   "pygments_lexer": "ipython3",
   "version": "3.10.0"
  }
 },
 "nbformat": 4,
 "nbformat_minor": 5
}
