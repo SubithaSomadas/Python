{
 "cells": [
  {
   "cell_type": "code",
   "execution_count": 1,
   "id": "3f6247d8",
   "metadata": {},
   "outputs": [],
   "source": [
    "import tensorflow as tf"
   ]
  },
  {
   "cell_type": "markdown",
   "id": "609a2237",
   "metadata": {},
   "source": [
    "### Pgm1"
   ]
  },
  {
   "cell_type": "code",
   "execution_count": 2,
   "id": "19b265f2",
   "metadata": {},
   "outputs": [
    {
     "data": {
      "text/plain": [
       "'\\nx = tf.constant(10) # can have constant tensor,placeholder tensor,variable tensor,sparse tensor.\\n                    #Here we are using constant tensor as the values 10 and 5 always remains same. \\ny = tf.constant(5)\\nz =x+y\\nprint(z)\\n'"
      ]
     },
     "execution_count": 2,
     "metadata": {},
     "output_type": "execute_result"
    }
   ],
   "source": [
    "'''\n",
    "x = tf.constant(10) # can have constant tensor,placeholder tensor,variable tensor,sparse tensor.\n",
    "                    #Here we are using constant tensor as the values 10 and 5 always remains same. \n",
    "y = tf.constant(5)\n",
    "z =x+y\n",
    "print(z)\n",
    "'''"
   ]
  },
  {
   "cell_type": "markdown",
   "id": "391541b6",
   "metadata": {},
   "source": [
    "### MNIST dataset using sklearn"
   ]
  },
  {
   "cell_type": "code",
   "execution_count": 3,
   "id": "c4e76ce4",
   "metadata": {},
   "outputs": [],
   "source": [
    "#from keras\n",
    "#mnist = tf.keras.datasets.mnist\n",
    "#(x_train,y_train),(x_test,y_test) = mnist.load_data()"
   ]
  },
  {
   "cell_type": "code",
   "execution_count": 4,
   "id": "02db3e68",
   "metadata": {},
   "outputs": [
    {
     "data": {
      "text/plain": [
       "((70000, 784), (70000,))"
      ]
     },
     "execution_count": 4,
     "metadata": {},
     "output_type": "execute_result"
    }
   ],
   "source": [
    "from sklearn.datasets import fetch_openml    #import MNIST dataset using sklearn\n",
    "mnist = fetch_openml('mnist_784')\n",
    "\n",
    "x,y = mnist['data'],mnist['target'] #x --> instance values ,y --> features\n",
    "x.shape,y.shape"
   ]
  },
  {
   "cell_type": "code",
   "execution_count": 1,
   "id": "4ac5bafa",
   "metadata": {
    "scrolled": true
   },
   "outputs": [
    {
     "data": {
      "text/plain": [
       "'%matplotlib inline  \\nimport matplotlib.pyplot as plt\\nimport matplotlib\\nimport numpy as np\\n\\ndigit_ = x.iloc[36000] # assaign a random row to variable digit_\\nd = np.array(digit_)\\ndigit_image = d.reshape(28,28)\\n\\nplt.imshow(digit_image,cmap = matplotlib.cm.binary,interpolation = \"nearest\")\\nplt.axis(\\'off\\')\\ny[36000]\\n\\ndig = x.to_numpy()[3601]\\ndig_image = dig.reshape(28,28)\\nplt.imshow(dig_image,cmap = matplotlib.cm.binary,interpolation = \"nearest\")\\ny[3601]\\n\\n### Detect if digit 2 is present \\n\\nX_train,y_train = x.iloc[:60001],y.iloc[:60001]\\nX_test,y_test = x.iloc[60001:],y.iloc[60001:]\\n\\ny_train = y_train.astype(int)\\ny_test = y_test.astype(int)\\n\\ny_train_bool = (y_train == 8)\\ny_test_bool = (y_test == 8)\\n\\ny_test_bool.value_counts()\\n\\ny_train_bool[3600]\\n\\nfrom sklearn.linear_model import LogisticRegression\\n\\nmodel = LogisticRegression(tol=0.1)\\n\\nmodel.fit(X_train,y_train_bool)\\n\\ny_pred = model.predict([dig])\\n\\ny_pred'"
      ]
     },
     "execution_count": 1,
     "metadata": {},
     "output_type": "execute_result"
    }
   ],
   "source": [
    "%matplotlib inline  \n",
    "import matplotlib.pyplot as plt\n",
    "import matplotlib\n",
    "import numpy as np\n",
    "\n",
    "digit_ = x.iloc[36000] # assign a random row to variable digit_\n",
    "d = np.array(digit_)\n",
    "digit_image = d.reshape(28,28)\n",
    "\n",
    "plt.imshow(digit_image,cmap = matplotlib.cm.binary,interpolation = \"nearest\")\n",
    "plt.axis('off')\n",
    "y[36000]\n",
    "\n",
    "dig = x.to_numpy()[3601]\n",
    "dig_image = dig.reshape(28,28)\n",
    "plt.imshow(dig_image,cmap = matplotlib.cm.binary,interpolation = \"nearest\")\n",
    "y[3601]\n",
    "\n",
    "### Detect if digit 2 is present \n",
    "\n",
    "X_train,y_train = x.iloc[:60001],y.iloc[:60001]\n",
    "X_test,y_test = x.iloc[60001:],y.iloc[60001:]\n",
    "\n",
    "y_train = y_train.astype(int)\n",
    "y_test = y_test.astype(int)\n",
    "\n",
    "y_train_bool = (y_train == 8)\n",
    "y_test_bool = (y_test == 8)\n",
    "\n",
    "y_test_bool.value_counts()\n",
    "\n",
    "y_train_bool[3600]\n",
    "\n",
    "from sklearn.linear_model import LogisticRegression\n",
    "\n",
    "model = LogisticRegression(tol=0.1)\n",
    "\n",
    "model.fit(X_train,y_train_bool)\n",
    "\n",
    "y_pred = model.predict([dig])\n",
    "\n",
    "y_pred"
   ]
  },
  {
   "cell_type": "code",
   "execution_count": null,
   "id": "b11ae998",
   "metadata": {},
   "outputs": [],
   "source": []
  }
 ],
 "metadata": {
  "kernelspec": {
   "display_name": "Python 3 (ipykernel)",
   "language": "python",
   "name": "python3"
  },
  "language_info": {
   "codemirror_mode": {
    "name": "ipython",
    "version": 3
   },
   "file_extension": ".py",
   "mimetype": "text/x-python",
   "name": "python",
   "nbconvert_exporter": "python",
   "pygments_lexer": "ipython3",
   "version": "3.10.0"
  }
 },
 "nbformat": 4,
 "nbformat_minor": 5
}
